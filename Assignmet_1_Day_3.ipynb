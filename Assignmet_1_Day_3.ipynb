{
 "cells": [
  {
   "cell_type": "code",
   "execution_count": 1,
   "metadata": {
    "colab": {
     "base_uri": "https://localhost:8080/",
     "height": 51
    },
    "colab_type": "code",
    "id": "EbMP1BEMV8d4",
    "outputId": "f4e5fc9b-8f22-4466-8b96-6d9ee208d7e6"
   },
   "outputs": [
    {
     "name": "stdout",
     "output_type": "stream",
     "text": [
      "Input - 8000\n",
      "Turn around\n"
     ]
    }
   ],
   "source": [
    "import os\n",
    "a = int(input(\"Input - \"))\n",
    "if a < 1000:\n",
    "  print('Safe to land')\n",
    "elif a>1000 and a < 5000:\n",
    "  print('Bring down to 1000')\n",
    "else:\n",
    "  print('Turn around') \n"
   ]
  },
  {
   "cell_type": "code",
   "execution_count": null,
   "metadata": {
    "colab": {},
    "colab_type": "code",
    "id": "Hj3qLkuyaEi6"
   },
   "outputs": [],
   "source": [
    " "
   ]
  }
 ],
 "metadata": {
  "colab": {
   "collapsed_sections": [],
   "name": "Assignmet-1 -Day-3.ipynb",
   "provenance": []
  },
  "kernelspec": {
   "display_name": "Python 3",
   "language": "python",
   "name": "python3"
  },
  "language_info": {
   "codemirror_mode": {
    "name": "ipython",
    "version": 3
   },
   "file_extension": ".py",
   "mimetype": "text/x-python",
   "name": "python",
   "nbconvert_exporter": "python",
   "pygments_lexer": "ipython3",
   "version": "3.8.3"
  }
 },
 "nbformat": 4,
 "nbformat_minor": 1
}
