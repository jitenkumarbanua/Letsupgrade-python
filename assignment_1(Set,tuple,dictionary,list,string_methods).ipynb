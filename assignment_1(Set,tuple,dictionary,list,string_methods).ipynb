{
 "cells": [
  {
   "cell_type": "markdown",
   "metadata": {
    "colab_type": "text",
    "id": "gdoMM2nIF2Bj"
   },
   "source": [
    "### **List and its default methods**"
   ]
  },
  {
   "cell_type": "code",
   "execution_count": 10,
   "metadata": {
    "colab": {},
    "colab_type": "code",
    "id": "-JxNEhOZC6tz"
   },
   "outputs": [],
   "source": [
    "li1 = [1,2,3,'a','b',True,False]"
   ]
  },
  {
   "cell_type": "code",
   "execution_count": 11,
   "metadata": {
    "colab": {
     "base_uri": "https://localhost:8080/",
     "height": 34
    },
    "colab_type": "code",
    "id": "FdDJGQO6GbaP",
    "outputId": "867b99b4-bb3c-4eba-af17-bf42820452f6"
   },
   "outputs": [
    {
     "name": "stdout",
     "output_type": "stream",
     "text": [
      "[1, 2, 'Hii', 3, 'a', 'b', True, False]\n"
     ]
    }
   ],
   "source": [
    "li1.insert(2,'Hii')\n",
    "print(li1)"
   ]
  },
  {
   "cell_type": "code",
   "execution_count": 5,
   "metadata": {
    "colab": {
     "base_uri": "https://localhost:8080/",
     "height": 34
    },
    "colab_type": "code",
    "id": "o1WfbQ7pGvSH",
    "outputId": "fc009c42-f6e5-4512-c444-04684e98adf5"
   },
   "outputs": [
    {
     "data": {
      "text/plain": [
       "True"
      ]
     },
     "execution_count": 5,
     "metadata": {
      "tags": []
     },
     "output_type": "execute_result"
    }
   ],
   "source": [
    "li1.pop()"
   ]
  },
  {
   "cell_type": "code",
   "execution_count": 22,
   "metadata": {
    "colab": {},
    "colab_type": "code",
    "id": "O3j95ahWG99y"
   },
   "outputs": [],
   "source": [
    "li1.remove('b')"
   ]
  },
  {
   "cell_type": "code",
   "execution_count": 21,
   "metadata": {
    "colab": {
     "base_uri": "https://localhost:8080/",
     "height": 34
    },
    "colab_type": "code",
    "id": "hb1wu41WHHDn",
    "outputId": "3e3c9a4b-979b-4887-ecda-288d67b9915d"
   },
   "outputs": [
    {
     "data": {
      "text/plain": [
       "2"
      ]
     },
     "execution_count": 21,
     "metadata": {},
     "output_type": "execute_result"
    }
   ],
   "source": [
    "li1.index('Hii')"
   ]
  },
  {
   "cell_type": "code",
   "execution_count": 18,
   "metadata": {
    "colab": {
     "base_uri": "https://localhost:8080/",
     "height": 34
    },
    "colab_type": "code",
    "id": "qLcI7DXLHvwI",
    "outputId": "155e9fde-aea2-46a2-8960-3bfcb10053f9"
   },
   "outputs": [
    {
     "data": {
      "text/plain": [
       "[]"
      ]
     },
     "execution_count": 18,
     "metadata": {
      "tags": []
     },
     "output_type": "execute_result"
    }
   ],
   "source": [
    "li1.clear()\n",
    "li1"
   ]
  },
  {
   "cell_type": "markdown",
   "metadata": {
    "colab_type": "text",
    "id": "dsctW9mXI-q4"
   },
   "source": [
    "## ***Dictionary and its default methods***"
   ]
  },
  {
   "cell_type": "code",
   "execution_count": 23,
   "metadata": {
    "colab": {},
    "colab_type": "code",
    "id": "2NXdA_xVJM7C"
   },
   "outputs": [],
   "source": [
    "dict1 = {'firstName':'jiten','lastName':'banua','age':21,'address':'Bhubaneswar'}"
   ]
  },
  {
   "cell_type": "code",
   "execution_count": 24,
   "metadata": {
    "colab": {
     "base_uri": "https://localhost:8080/",
     "height": 34
    },
    "colab_type": "code",
    "id": "gFZMCjQTKNoY",
    "outputId": "fa1c2516-ba79-451e-a509-f7b73d933243"
   },
   "outputs": [
    {
     "data": {
      "text/plain": [
       "dict_values(['jiten', 'banua', 21, 'Bhubaneswar'])"
      ]
     },
     "execution_count": 24,
     "metadata": {},
     "output_type": "execute_result"
    }
   ],
   "source": [
    "dict1.values()"
   ]
  },
  {
   "cell_type": "code",
   "execution_count": 25,
   "metadata": {
    "colab": {
     "base_uri": "https://localhost:8080/",
     "height": 34
    },
    "colab_type": "code",
    "id": "Fj-s9enuKTSH",
    "outputId": "a5d8f2e2-8b39-43f3-8fa2-5eb6e0aceb22"
   },
   "outputs": [
    {
     "data": {
      "text/plain": [
       "dict_keys(['firstName', 'lastName', 'age', 'address'])"
      ]
     },
     "execution_count": 25,
     "metadata": {},
     "output_type": "execute_result"
    }
   ],
   "source": [
    "dict1.keys()"
   ]
  },
  {
   "cell_type": "code",
   "execution_count": 26,
   "metadata": {
    "colab": {
     "base_uri": "https://localhost:8080/",
     "height": 34
    },
    "colab_type": "code",
    "id": "wus0dxqQKWp0",
    "outputId": "69d969d7-167e-4c7a-e7e4-74da953bb8b5"
   },
   "outputs": [
    {
     "data": {
      "text/plain": [
       "dict_items([('firstName', 'jiten'), ('lastName', 'banua'), ('age', 21), ('address', 'Bhubaneswar')])"
      ]
     },
     "execution_count": 26,
     "metadata": {},
     "output_type": "execute_result"
    }
   ],
   "source": [
    "dict1.items()"
   ]
  },
  {
   "cell_type": "code",
   "execution_count": 27,
   "metadata": {
    "colab": {
     "base_uri": "https://localhost:8080/",
     "height": 35
    },
    "colab_type": "code",
    "id": "-l-QjF5KKqE9",
    "outputId": "5bba509b-27ac-4ec2-d66c-04883e91a1fe"
   },
   "outputs": [
    {
     "data": {
      "text/plain": [
       "'jiten'"
      ]
     },
     "execution_count": 27,
     "metadata": {},
     "output_type": "execute_result"
    }
   ],
   "source": [
    "dict1.get('firstName')"
   ]
  },
  {
   "cell_type": "code",
   "execution_count": 28,
   "metadata": {
    "colab": {
     "base_uri": "https://localhost:8080/",
     "height": 102
    },
    "colab_type": "code",
    "id": "q5U7o-7mLdft",
    "outputId": "f12ae055-22f4-4f7e-cd7d-5abf2108c6fe"
   },
   "outputs": [
    {
     "data": {
      "text/plain": [
       "{'firstName': 'jiten',\n",
       " 'lastName': 'banua',\n",
       " 'age': 21,\n",
       " 'address': 'Bhubaneswar',\n",
       " 'city': 'hydrabad'}"
      ]
     },
     "execution_count": 28,
     "metadata": {},
     "output_type": "execute_result"
    }
   ],
   "source": [
    "dict1.update({'city':'hydrabad'})\n",
    "dict1"
   ]
  },
  {
   "cell_type": "code",
   "execution_count": 31,
   "metadata": {
    "colab": {
     "base_uri": "https://localhost:8080/",
     "height": 119
    },
    "colab_type": "code",
    "id": "OKsHM_y5Ofd4",
    "outputId": "1e207cf4-4380-4e58-cc4b-0730824da972"
   },
   "outputs": [
    {
     "data": {
      "text/plain": [
       "{'address': 'Bhubaneswar',\n",
       " 'age': 21,\n",
       " 'city': 'Bangalore',\n",
       " 'firstName': 'amit',\n",
       " 'id': 1,\n",
       " 'lastName': 'panda'}"
      ]
     },
     "execution_count": 31,
     "metadata": {
      "tags": []
     },
     "output_type": "execute_result"
    }
   ],
   "source": [
    "dict1['id'] = 1\n",
    "dict1"
   ]
  },
  {
   "cell_type": "code",
   "execution_count": 32,
   "metadata": {
    "colab": {
     "base_uri": "https://localhost:8080/",
     "height": 102
    },
    "colab_type": "code",
    "id": "SIjYYiZMPFBI",
    "outputId": "f3ada515-c6aa-4e1b-e0b9-2ec11dfa9875"
   },
   "outputs": [
    {
     "data": {
      "text/plain": [
       "{'address': 'Bhubaneswar',\n",
       " 'age': 21,\n",
       " 'city': 'Bangalore',\n",
       " 'firstName': 'amit',\n",
       " 'lastName': 'panda'}"
      ]
     },
     "execution_count": 32,
     "metadata": {
      "tags": []
     },
     "output_type": "execute_result"
    }
   ],
   "source": [
    "dict1.pop('id')\n",
    "dict1"
   ]
  },
  {
   "cell_type": "code",
   "execution_count": 29,
   "metadata": {
    "colab": {
     "base_uri": "https://localhost:8080/",
     "height": 34
    },
    "colab_type": "code",
    "id": "uVC3pHKXPSOy",
    "outputId": "35389ae7-9d67-4baf-c3d6-b39e82b32093"
   },
   "outputs": [
    {
     "data": {
      "text/plain": [
       "('city', 'hydrabad')"
      ]
     },
     "execution_count": 29,
     "metadata": {},
     "output_type": "execute_result"
    }
   ],
   "source": [
    "dict1.popitem()"
   ]
  },
  {
   "cell_type": "markdown",
   "metadata": {
    "colab_type": "text",
    "id": "tTeW0AgUPYf5"
   },
   "source": [
    "***Set and its default methods***"
   ]
  },
  {
   "cell_type": "code",
   "execution_count": 38,
   "metadata": {
    "colab": {
     "base_uri": "https://localhost:8080/",
     "height": 34
    },
    "colab_type": "code",
    "id": "-5kVs0M2Pv9Z",
    "outputId": "47047452-cc0b-4c42-b44b-76d6e42ecc3a"
   },
   "outputs": [
    {
     "data": {
      "text/plain": [
       "{'a', 'b', 'c', 'd'}"
      ]
     },
     "execution_count": 38,
     "metadata": {
      "tags": []
     },
     "output_type": "execute_result"
    }
   ],
   "source": [
    "set1  = {'a','b','c'}\n",
    "set1.add('d')\n"
   ]
  },
  {
   "cell_type": "code",
   "execution_count": 39,
   "metadata": {
    "colab": {
     "base_uri": "https://localhost:8080/",
     "height": 34
    },
    "colab_type": "code",
    "id": "fAUQ2WfeQ-_c",
    "outputId": "2246ac87-e6de-453e-d12c-02b9fec4c4de"
   },
   "outputs": [
    {
     "data": {
      "text/plain": [
       "{'a', 'b', 'c', 'd', 'e', 'f'}"
      ]
     },
     "execution_count": 39,
     "metadata": {
      "tags": []
     },
     "output_type": "execute_result"
    }
   ],
   "source": [
    "set1.update(['e','f'])\n",
    "set1"
   ]
  },
  {
   "cell_type": "code",
   "execution_count": 40,
   "metadata": {
    "colab": {
     "base_uri": "https://localhost:8080/",
     "height": 34
    },
    "colab_type": "code",
    "id": "s8deLFysRIQJ",
    "outputId": "b3cfe00c-98c5-42fb-d1b4-132f917af80a"
   },
   "outputs": [
    {
     "data": {
      "text/plain": [
       "{'a', 'b', 'c', 'd', 'e'}"
      ]
     },
     "execution_count": 40,
     "metadata": {
      "tags": []
     },
     "output_type": "execute_result"
    }
   ],
   "source": [
    "set1.remove('f')\n",
    "set1"
   ]
  },
  {
   "cell_type": "code",
   "execution_count": 41,
   "metadata": {
    "colab": {
     "base_uri": "https://localhost:8080/",
     "height": 35
    },
    "colab_type": "code",
    "id": "3s9_TbEURaKK",
    "outputId": "cdb183b5-bedf-44a2-c873-60a0b336eec9"
   },
   "outputs": [
    {
     "data": {
      "application/vnd.google.colaboratory.intrinsic+json": {
       "type": "string"
      },
      "text/plain": [
       "'d'"
      ]
     },
     "execution_count": 41,
     "metadata": {
      "tags": []
     },
     "output_type": "execute_result"
    }
   ],
   "source": [
    "set1.pop()"
   ]
  },
  {
   "cell_type": "code",
   "execution_count": 42,
   "metadata": {
    "colab": {
     "base_uri": "https://localhost:8080/",
     "height": 34
    },
    "colab_type": "code",
    "id": "I1EBnDVxSHt-",
    "outputId": "ebbe907f-ba45-4ca9-ebd8-671ae8806383"
   },
   "outputs": [
    {
     "data": {
      "text/plain": [
       "{1, 2, 3, 'a', 'b', 'c', 'e'}"
      ]
     },
     "execution_count": 42,
     "metadata": {
      "tags": []
     },
     "output_type": "execute_result"
    }
   ],
   "source": [
    "set2 = {1,2,3}\n",
    "set1.union(set2)"
   ]
  },
  {
   "cell_type": "code",
   "execution_count": 44,
   "metadata": {
    "colab": {
     "base_uri": "https://localhost:8080/",
     "height": 34
    },
    "colab_type": "code",
    "id": "g3pe3TyRSQoT",
    "outputId": "4bbe0853-64d4-480d-fca7-ad447ed14d8d"
   },
   "outputs": [
    {
     "data": {
      "text/plain": [
       "set()"
      ]
     },
     "execution_count": 44,
     "metadata": {
      "tags": []
     },
     "output_type": "execute_result"
    }
   ],
   "source": [
    "set1.intersection(set2)"
   ]
  },
  {
   "cell_type": "markdown",
   "metadata": {
    "colab_type": "text",
    "id": "eiYpanWmSeOU"
   },
   "source": [
    "**Tuple and its default methods**"
   ]
  },
  {
   "cell_type": "code",
   "execution_count": 46,
   "metadata": {
    "colab": {
     "base_uri": "https://localhost:8080/",
     "height": 34
    },
    "colab_type": "code",
    "id": "jcJQwx7CSpS6",
    "outputId": "3fac6adf-029a-4bb3-8579-18467748ba20"
   },
   "outputs": [
    {
     "data": {
      "text/plain": [
       "1"
      ]
     },
     "execution_count": 46,
     "metadata": {
      "tags": []
     },
     "output_type": "execute_result"
    }
   ],
   "source": [
    "tuple1 = ('a','b','c',1,2,True)\n",
    "tuple1.count('a')"
   ]
  },
  {
   "cell_type": "code",
   "execution_count": 47,
   "metadata": {
    "colab": {
     "base_uri": "https://localhost:8080/",
     "height": 34
    },
    "colab_type": "code",
    "id": "KWO2FLoPTiuX",
    "outputId": "231a0230-2492-46de-8afe-abb42ae7a7ab"
   },
   "outputs": [
    {
     "data": {
      "text/plain": [
       "0"
      ]
     },
     "execution_count": 47,
     "metadata": {
      "tags": []
     },
     "output_type": "execute_result"
    }
   ],
   "source": [
    "tuple1.index('a')"
   ]
  },
  {
   "cell_type": "code",
   "execution_count": 48,
   "metadata": {
    "colab": {
     "base_uri": "https://localhost:8080/",
     "height": 34
    },
    "colab_type": "code",
    "id": "nPO_ggqkTm5t",
    "outputId": "5793da40-484c-4d2d-ab8f-3edccd43e853"
   },
   "outputs": [
    {
     "data": {
      "text/plain": [
       "6"
      ]
     },
     "execution_count": 48,
     "metadata": {
      "tags": []
     },
     "output_type": "execute_result"
    }
   ],
   "source": [
    "len(tuple1)"
   ]
  },
  {
   "cell_type": "markdown",
   "metadata": {
    "colab_type": "text",
    "id": "gciJCvfrUIxY"
   },
   "source": [
    "**String and its methods**"
   ]
  },
  {
   "cell_type": "code",
   "execution_count": 1,
   "metadata": {
    "colab": {
     "base_uri": "https://localhost:8080/",
     "height": 35
    },
    "colab_type": "code",
    "id": "SZfQDzjhUPyA",
    "outputId": "f83046a6-de58-437f-d3b9-8687fc8ca952"
   },
   "outputs": [
    {
     "data": {
      "text/plain": [
       "' JITEN KUMAR BANUA '"
      ]
     },
     "execution_count": 1,
     "metadata": {},
     "output_type": "execute_result"
    }
   ],
   "source": [
    "name = ' jiten kumar banua '\n",
    "name.upper()"
   ]
  },
  {
   "cell_type": "code",
   "execution_count": 2,
   "metadata": {
    "colab": {
     "base_uri": "https://localhost:8080/",
     "height": 35
    },
    "colab_type": "code",
    "id": "N8LWHW3RUbhh",
    "outputId": "7ae5eab4-95f0-4b4c-8139-acbcea82a3f7"
   },
   "outputs": [
    {
     "data": {
      "text/plain": [
       "' jiten kumar banua '"
      ]
     },
     "execution_count": 2,
     "metadata": {},
     "output_type": "execute_result"
    }
   ],
   "source": [
    "name.lower()"
   ]
  },
  {
   "cell_type": "code",
   "execution_count": 3,
   "metadata": {
    "colab": {
     "base_uri": "https://localhost:8080/",
     "height": 35
    },
    "colab_type": "code",
    "id": "e7HQa9hGUebZ",
    "outputId": "43b5d80c-3ecf-4580-f3b0-49ebf5deea26"
   },
   "outputs": [
    {
     "data": {
      "text/plain": [
       "' JITEN KUMAR BANUA '"
      ]
     },
     "execution_count": 3,
     "metadata": {},
     "output_type": "execute_result"
    }
   ],
   "source": [
    "name.swapcase()"
   ]
  },
  {
   "cell_type": "code",
   "execution_count": 4,
   "metadata": {
    "colab": {
     "base_uri": "https://localhost:8080/",
     "height": 35
    },
    "colab_type": "code",
    "id": "dWX4SOBNUiVw",
    "outputId": "9fb173b3-dd91-46e7-d44e-054012ead4a9"
   },
   "outputs": [
    {
     "data": {
      "text/plain": [
       "' Jiten Kumar Banua '"
      ]
     },
     "execution_count": 4,
     "metadata": {},
     "output_type": "execute_result"
    }
   ],
   "source": [
    "name.title()"
   ]
  },
  {
   "cell_type": "code",
   "execution_count": 5,
   "metadata": {
    "colab": {
     "base_uri": "https://localhost:8080/",
     "height": 35
    },
    "colab_type": "code",
    "id": "iIdKZXshUt1F",
    "outputId": "7c4cf62c-7b6d-43b4-cbf1-edf3e5c5d39b"
   },
   "outputs": [
    {
     "data": {
      "text/plain": [
       "'jiten kumar banua '"
      ]
     },
     "execution_count": 5,
     "metadata": {},
     "output_type": "execute_result"
    }
   ],
   "source": [
    "name.lstrip()"
   ]
  },
  {
   "cell_type": "code",
   "execution_count": 6,
   "metadata": {
    "colab": {
     "base_uri": "https://localhost:8080/",
     "height": 35
    },
    "colab_type": "code",
    "id": "IYsEqXN3U1uF",
    "outputId": "20704b14-4959-4d35-e72e-853483cd452d"
   },
   "outputs": [
    {
     "data": {
      "text/plain": [
       "' jiten kumar banua'"
      ]
     },
     "execution_count": 6,
     "metadata": {},
     "output_type": "execute_result"
    }
   ],
   "source": [
    "name.rstrip()"
   ]
  },
  {
   "cell_type": "code",
   "execution_count": 7,
   "metadata": {
    "colab": {
     "base_uri": "https://localhost:8080/",
     "height": 35
    },
    "colab_type": "code",
    "id": "-a9Z4YDfU6CX",
    "outputId": "593dbfff-bd6e-44fc-e8f4-f3be724c036e"
   },
   "outputs": [
    {
     "data": {
      "text/plain": [
       "'jitenkumarbanua'"
      ]
     },
     "execution_count": 7,
     "metadata": {},
     "output_type": "execute_result"
    }
   ],
   "source": [
    "name.replace(' ','')"
   ]
  },
  {
   "cell_type": "code",
   "execution_count": null,
   "metadata": {},
   "outputs": [],
   "source": []
  }
 ],
 "metadata": {
  "colab": {
   "name": "assignment-1(Set,tuple,dictionary,list,string methods).ipynb",
   "provenance": []
  },
  "kernelspec": {
   "display_name": "Python 3",
   "language": "python",
   "name": "python3"
  },
  "language_info": {
   "codemirror_mode": {
    "name": "ipython",
    "version": 3
   },
   "file_extension": ".py",
   "mimetype": "text/x-python",
   "name": "python",
   "nbconvert_exporter": "python",
   "pygments_lexer": "ipython3",
   "version": "3.8.3"
  }
 },
 "nbformat": 4,
 "nbformat_minor": 1
}
